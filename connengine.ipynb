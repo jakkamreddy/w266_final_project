{
 "cells": [
  {
   "cell_type": "code",
   "execution_count": 34,
   "metadata": {},
   "outputs": [],
   "source": [
    "from pprint import pprint\n",
    "\n",
    "class ConnectionEngine:\n",
    "    def __init__(self, class_list):\n",
    "        self.class_list = class_list\n",
    "        self._connected = list()\n",
    "        self._connected.append(self._build_empty_row())\n",
    "\n",
    "    def _build_empty_row(self):\n",
    "        row = {k : None for k in self.class_list}\n",
    "        return row\n",
    "    \n",
    "    def add_item(self, class_name, value):\n",
    "        current_item = self._connected[-1]\n",
    "        if current_item[class_name] == None:\n",
    "            current_item[class_name] = value\n",
    "        else:\n",
    "            self._connected.append(self._build_empty_row())\n",
    "            current_item = self._connected[-1]\n",
    "            current_item[class_name] = value\n",
    "        return\n",
    "    \n",
    "    def get_connected(self):\n",
    "        return self._connected\n",
    "            \n",
    "    def print_out(self):\n",
    "        for item in self._connected:\n",
    "            print(item)"
   ]
  },
  {
   "cell_type": "code",
   "execution_count": 42,
   "metadata": {},
   "outputs": [
    {
     "data": {
      "text/plain": [
       "[{'B-m': None, 'B-do': None, 'B-dur': None}]"
      ]
     },
     "execution_count": 42,
     "metadata": {},
     "output_type": "execute_result"
    }
   ],
   "source": [
    "c = ConnectionEngine(['B-m', 'B-do', 'B-dur'])\n",
    "\n",
    "#empty\n",
    "c.get_connected()\n",
    "\n"
   ]
  },
  {
   "cell_type": "code",
   "execution_count": 43,
   "metadata": {},
   "outputs": [
    {
     "data": {
      "text/plain": [
       "[{'B-m': 'Aspirin', 'B-do': '100 mg', 'B-dur': None}]"
      ]
     },
     "execution_count": 43,
     "metadata": {},
     "output_type": "execute_result"
    }
   ],
   "source": [
    "c.add_item('B-m', 'Aspirin')\n",
    "c.add_item('B-do', '100 mg')\n",
    "\n",
    "c.get_connected()"
   ]
  },
  {
   "cell_type": "code",
   "execution_count": 44,
   "metadata": {},
   "outputs": [
    {
     "data": {
      "text/plain": [
       "[{'B-m': 'Aspirin', 'B-do': '100 mg', 'B-dur': None},\n",
       " {'B-m': 'Advil', 'B-do': None, 'B-dur': None}]"
      ]
     },
     "execution_count": 44,
     "metadata": {},
     "output_type": "execute_result"
    }
   ],
   "source": [
    "c.add_item('B-m', 'Advil')\n",
    "\n",
    "\n",
    "c.get_connected()"
   ]
  },
  {
   "cell_type": "code",
   "execution_count": 45,
   "metadata": {},
   "outputs": [
    {
     "name": "stdout",
     "output_type": "stream",
     "text": [
      "{'B-m': 'Aspirin', 'B-do': '100 mg', 'B-dur': None}\n",
      "{'B-m': 'Advil', 'B-do': '60 mg', 'B-dur': '10'}\n"
     ]
    }
   ],
   "source": [
    "c.add_item('B-do', '60 mg')\n",
    "c.add_item('B-dur', '10')\n",
    "\n",
    "c.print_out()\n"
   ]
  }
 ],
 "metadata": {
  "kernelspec": {
   "display_name": "Python 3",
   "language": "python",
   "name": "python3"
  },
  "language_info": {
   "codemirror_mode": {
    "name": "ipython",
    "version": 3
   },
   "file_extension": ".py",
   "mimetype": "text/x-python",
   "name": "python",
   "nbconvert_exporter": "python",
   "pygments_lexer": "ipython3",
   "version": "3.6.8"
  }
 },
 "nbformat": 4,
 "nbformat_minor": 4
}
