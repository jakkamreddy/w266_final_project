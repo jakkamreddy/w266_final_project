{
 "cells": [
  {
   "cell_type": "code",
   "execution_count": 59,
   "metadata": {},
   "outputs": [],
   "source": [
    "class ConnectionEngine:\n",
    "    def __init__(self, class_list):\n",
    "        self.class_list = class_list\n",
    "        self._connected = list()\n",
    "        self._connected.append(self._build_empty_row())\n",
    "\n",
    "    def _build_empty_row(self):\n",
    "        row = {k : None for k in self.class_list}\n",
    "        return row\n",
    "    \n",
    "    def add_item(self, class_name, value):\n",
    "        current_item = self._connected[-1]\n",
    "        if current_item[class_name] == None:\n",
    "            current_item[class_name] = value\n",
    "        else:\n",
    "            self._connected.append(self._build_empty_row())\n",
    "            current_item = self._connected[-1]\n",
    "            current_item[class_name] = value\n",
    "        return\n",
    "    \n",
    "    def get_connected(self):\n",
    "        return self._connected\n",
    "            \n",
    "    def print_out(self):\n",
    "        for item in self._connected:\n",
    "            print(item)\n",
    "\n",
    "def zip_and_combine(l1,l2):\n",
    "    final_list = list()\n",
    "    last_word = ''\n",
    "    last_ner = 'O'\n",
    "    for word, ner_type in zip(l1,l2):\n",
    "        if ner_type[0] == 'I':\n",
    "            last_word += word\n",
    "        else:\n",
    "            final_list.append({last_word : last_ner})\n",
    "            last_word = word\n",
    "            last_ner = ner_type\n",
    "    final_list.append({last_word : last_ner})\n",
    "    return final_list"
   ]
  },
  {
   "cell_type": "code",
   "execution_count": 60,
   "metadata": {},
   "outputs": [
    {
     "data": {
      "text/html": [
       "<div>\n",
       "<style scoped>\n",
       "    .dataframe tbody tr th:only-of-type {\n",
       "        vertical-align: middle;\n",
       "    }\n",
       "\n",
       "    .dataframe tbody tr th {\n",
       "        vertical-align: top;\n",
       "    }\n",
       "\n",
       "    .dataframe thead th {\n",
       "        text-align: right;\n",
       "    }\n",
       "</style>\n",
       "<table border=\"1\" class=\"dataframe\">\n",
       "  <thead>\n",
       "    <tr style=\"text-align: right;\">\n",
       "      <th></th>\n",
       "      <th>B-do</th>\n",
       "      <th>B-f</th>\n",
       "      <th>B-m</th>\n",
       "      <th>B-mo</th>\n",
       "    </tr>\n",
       "  </thead>\n",
       "  <tbody>\n",
       "    <tr>\n",
       "      <th>0</th>\n",
       "      <td>75mg</td>\n",
       "      <td>daily.</td>\n",
       "      <td>Plavix(clopidogrel)</td>\n",
       "      <td>po</td>\n",
       "    </tr>\n",
       "    <tr>\n",
       "      <th>1</th>\n",
       "      <td>50mg</td>\n",
       "      <td>weekly</td>\n",
       "      <td>ATENOLAL</td>\n",
       "      <td>po</td>\n",
       "    </tr>\n",
       "  </tbody>\n",
       "</table>\n",
       "</div>"
      ],
      "text/plain": [
       "   B-do     B-f                  B-m B-mo\n",
       "0  75mg  daily.  Plavix(clopidogrel)   po\n",
       "1  50mg  weekly             ATENOLAL   po"
      ]
     },
     "execution_count": 60,
     "metadata": {},
     "output_type": "execute_result"
    }
   ],
   "source": [
    "import pandas as pd\n",
    "\n",
    "a1,a2 = (['The', 'patient', 'was', 'given', 'Plavix', '(', 'clopidogrel', ')', '75', 'mg', 'po', 'daily.'], ['O', 'O', 'O', 'O', 'B-m', 'I-m', 'I-m', 'I-m', 'B-do', 'I-do', 'B-mo', 'B-f'])\n",
    "b1,b2 = (['Advised', 'ATENOLAL', '50', 'mg', 'po', 'weekly', 'for', 'the', 'patient'], ['O', 'B-m', 'B-do', 'I-do', 'B-mo', 'B-f', 'O', 'O', 'O'])\n",
    "f = zip_and_combine(a1,a2) + zip_and_combine(b1,b2)\n",
    "\n",
    "c = ConnectionEngine(['B-m', 'B-do', 'B-f', 'B-mo'])\n",
    "\n",
    "for item in f:\n",
    "    word, ner = next(iter(item.items()))\n",
    "    if ner != 'O':\n",
    "        c.add_item(ner, word)\n",
    "\n",
    "pd.DataFrame(c.get_connected())"
   ]
  }
 ],
 "metadata": {
  "kernelspec": {
   "display_name": "Python 3",
   "language": "python",
   "name": "python3"
  },
  "language_info": {
   "codemirror_mode": {
    "name": "ipython",
    "version": 3
   },
   "file_extension": ".py",
   "mimetype": "text/x-python",
   "name": "python",
   "nbconvert_exporter": "python",
   "pygments_lexer": "ipython3",
   "version": "3.7.3"
  }
 },
 "nbformat": 4,
 "nbformat_minor": 4
}
